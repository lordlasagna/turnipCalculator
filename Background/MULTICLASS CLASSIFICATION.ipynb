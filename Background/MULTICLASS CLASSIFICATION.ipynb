{
 "cells": [
  {
   "cell_type": "code",
   "execution_count": 1,
   "metadata": {},
   "outputs": [],
   "source": [
    "import pandas as pd\n",
    "import numpy as np\n",
    "import matplotlib.pyplot as plt\n",
    "import seaborn as sns\n",
    "from sklearn.model_selection import train_test_split\n",
    "from sklearn.pipeline import make_pipeline\n",
    "from sklearn.datasets import make_classification"
   ]
  },
  {
   "cell_type": "code",
   "execution_count": 2,
   "metadata": {},
   "outputs": [],
   "source": [
    "turnip_data = pd.read_csv('../Database/stonksData.csv')"
   ]
  },
  {
   "cell_type": "code",
   "execution_count": 3,
   "metadata": {},
   "outputs": [
    {
     "data": {
      "text/html": [
       "<div>\n",
       "<style scoped>\n",
       "    .dataframe tbody tr th:only-of-type {\n",
       "        vertical-align: middle;\n",
       "    }\n",
       "\n",
       "    .dataframe tbody tr th {\n",
       "        vertical-align: top;\n",
       "    }\n",
       "\n",
       "    .dataframe thead th {\n",
       "        text-align: right;\n",
       "    }\n",
       "</style>\n",
       "<table border=\"1\" class=\"dataframe\">\n",
       "  <thead>\n",
       "    <tr style=\"text-align: right;\">\n",
       "      <th></th>\n",
       "      <th>Buy Price</th>\n",
       "      <th>Mon AM</th>\n",
       "      <th>Mon PM</th>\n",
       "      <th>Tue AM</th>\n",
       "      <th>Tue PM</th>\n",
       "      <th>Wed AM</th>\n",
       "      <th>Wed PM</th>\n",
       "      <th>Thu AM</th>\n",
       "      <th>Thu PM</th>\n",
       "      <th>Fri AM</th>\n",
       "      <th>Fri PM</th>\n",
       "      <th>Sat AM</th>\n",
       "      <th>Sat PM</th>\n",
       "      <th>Previous Pattern</th>\n",
       "      <th>Pattern</th>\n",
       "    </tr>\n",
       "  </thead>\n",
       "  <tbody>\n",
       "    <tr>\n",
       "      <th>0</th>\n",
       "      <td>NaN</td>\n",
       "      <td>126.0</td>\n",
       "      <td>94.0</td>\n",
       "      <td>107.0</td>\n",
       "      <td>71.0</td>\n",
       "      <td>64.0</td>\n",
       "      <td>146.0</td>\n",
       "      <td>146.0</td>\n",
       "      <td>76.0</td>\n",
       "      <td>70.0</td>\n",
       "      <td>66.0</td>\n",
       "      <td>146.0</td>\n",
       "      <td>146.0</td>\n",
       "      <td>2</td>\n",
       "      <td>0.0</td>\n",
       "    </tr>\n",
       "    <tr>\n",
       "      <th>1</th>\n",
       "      <td>NaN</td>\n",
       "      <td>126.0</td>\n",
       "      <td>94.0</td>\n",
       "      <td>107.0</td>\n",
       "      <td>71.0</td>\n",
       "      <td>64.0</td>\n",
       "      <td>53.0</td>\n",
       "      <td>90.0</td>\n",
       "      <td>76.0</td>\n",
       "      <td>70.0</td>\n",
       "      <td>90.0</td>\n",
       "      <td>90.0</td>\n",
       "      <td>90.0</td>\n",
       "      <td>2</td>\n",
       "      <td>0.0</td>\n",
       "    </tr>\n",
       "    <tr>\n",
       "      <th>2</th>\n",
       "      <td>NaN</td>\n",
       "      <td>126.0</td>\n",
       "      <td>94.0</td>\n",
       "      <td>107.0</td>\n",
       "      <td>71.0</td>\n",
       "      <td>64.0</td>\n",
       "      <td>53.0</td>\n",
       "      <td>146.0</td>\n",
       "      <td>76.0</td>\n",
       "      <td>70.0</td>\n",
       "      <td>94.0</td>\n",
       "      <td>146.0</td>\n",
       "      <td>146.0</td>\n",
       "      <td>2</td>\n",
       "      <td>0.0</td>\n",
       "    </tr>\n",
       "    <tr>\n",
       "      <th>3</th>\n",
       "      <td>NaN</td>\n",
       "      <td>126.0</td>\n",
       "      <td>94.0</td>\n",
       "      <td>107.0</td>\n",
       "      <td>71.0</td>\n",
       "      <td>64.0</td>\n",
       "      <td>53.0</td>\n",
       "      <td>146.0</td>\n",
       "      <td>76.0</td>\n",
       "      <td>70.0</td>\n",
       "      <td>94.0</td>\n",
       "      <td>94.0</td>\n",
       "      <td>94.0</td>\n",
       "      <td>2</td>\n",
       "      <td>0.0</td>\n",
       "    </tr>\n",
       "    <tr>\n",
       "      <th>4</th>\n",
       "      <td>107.0</td>\n",
       "      <td>93.0</td>\n",
       "      <td>88.0</td>\n",
       "      <td>85.0</td>\n",
       "      <td>80.0</td>\n",
       "      <td>118.0</td>\n",
       "      <td>208.0</td>\n",
       "      <td>600.0</td>\n",
       "      <td>166.0</td>\n",
       "      <td>100.0</td>\n",
       "      <td>90.0</td>\n",
       "      <td>72.0</td>\n",
       "      <td>97.0</td>\n",
       "      <td>0</td>\n",
       "      <td>2.0</td>\n",
       "    </tr>\n",
       "  </tbody>\n",
       "</table>\n",
       "</div>"
      ],
      "text/plain": [
       "   Buy Price  Mon AM  Mon PM  Tue AM  Tue PM  Wed AM  Wed PM  Thu AM  Thu PM  \\\n",
       "0        NaN   126.0    94.0   107.0    71.0    64.0   146.0   146.0    76.0   \n",
       "1        NaN   126.0    94.0   107.0    71.0    64.0    53.0    90.0    76.0   \n",
       "2        NaN   126.0    94.0   107.0    71.0    64.0    53.0   146.0    76.0   \n",
       "3        NaN   126.0    94.0   107.0    71.0    64.0    53.0   146.0    76.0   \n",
       "4      107.0    93.0    88.0    85.0    80.0   118.0   208.0   600.0   166.0   \n",
       "\n",
       "   Fri AM  Fri PM  Sat AM  Sat PM  Previous Pattern  Pattern  \n",
       "0    70.0    66.0   146.0   146.0                 2      0.0  \n",
       "1    70.0    90.0    90.0    90.0                 2      0.0  \n",
       "2    70.0    94.0   146.0   146.0                 2      0.0  \n",
       "3    70.0    94.0    94.0    94.0                 2      0.0  \n",
       "4   100.0    90.0    72.0    97.0                 0      2.0  "
      ]
     },
     "execution_count": 3,
     "metadata": {},
     "output_type": "execute_result"
    }
   ],
   "source": [
    "turnip_data.head()"
   ]
  },
  {
   "cell_type": "markdown",
   "metadata": {},
   "source": [
    "Pattern definition: \n",
    "    0: Fluctuating\n",
    "    1: Small Spike\n",
    "    2: Large Spike\n",
    "    3: Decreasing\n",
    "    4: Unknown"
   ]
  },
  {
   "cell_type": "code",
   "execution_count": 4,
   "metadata": {},
   "outputs": [
    {
     "name": "stdout",
     "output_type": "stream",
     "text": [
      "<class 'pandas.core.frame.DataFrame'>\n",
      "RangeIndex: 258 entries, 0 to 257\n",
      "Data columns (total 15 columns):\n",
      "Buy Price           245 non-null float64\n",
      "Mon AM              249 non-null float64\n",
      "Mon PM              253 non-null float64\n",
      "Tue AM              247 non-null float64\n",
      "Tue PM              251 non-null float64\n",
      "Wed AM              245 non-null float64\n",
      "Wed PM              235 non-null float64\n",
      "Thu AM              229 non-null float64\n",
      "Thu PM              215 non-null float64\n",
      "Fri AM              186 non-null float64\n",
      "Fri PM              164 non-null float64\n",
      "Sat AM              142 non-null float64\n",
      "Sat PM              129 non-null float64\n",
      "Previous Pattern    258 non-null int64\n",
      "Pattern             255 non-null float64\n",
      "dtypes: float64(14), int64(1)\n",
      "memory usage: 30.3 KB\n"
     ]
    }
   ],
   "source": [
    "turnip_data.info()"
   ]
  },
  {
   "cell_type": "code",
   "execution_count": 5,
   "metadata": {},
   "outputs": [
    {
     "data": {
      "text/plain": [
       "Buy Price            13\n",
       "Mon AM                9\n",
       "Mon PM                5\n",
       "Tue AM               11\n",
       "Tue PM                7\n",
       "Wed AM               13\n",
       "Wed PM               23\n",
       "Thu AM               29\n",
       "Thu PM               43\n",
       "Fri AM               72\n",
       "Fri PM               94\n",
       "Sat AM              116\n",
       "Sat PM              129\n",
       "Previous Pattern      0\n",
       "Pattern               3\n",
       "dtype: int64"
      ]
     },
     "execution_count": 5,
     "metadata": {},
     "output_type": "execute_result"
    }
   ],
   "source": [
    "turnip_data.isnull().sum()"
   ]
  },
  {
   "cell_type": "markdown",
   "metadata": {},
   "source": [
    "We can see there are 3 rows with no label. Those are to be extracted from the dataset."
   ]
  },
  {
   "cell_type": "code",
   "execution_count": 6,
   "metadata": {},
   "outputs": [
    {
     "data": {
      "text/html": [
       "<div>\n",
       "<style scoped>\n",
       "    .dataframe tbody tr th:only-of-type {\n",
       "        vertical-align: middle;\n",
       "    }\n",
       "\n",
       "    .dataframe tbody tr th {\n",
       "        vertical-align: top;\n",
       "    }\n",
       "\n",
       "    .dataframe thead th {\n",
       "        text-align: right;\n",
       "    }\n",
       "</style>\n",
       "<table border=\"1\" class=\"dataframe\">\n",
       "  <thead>\n",
       "    <tr style=\"text-align: right;\">\n",
       "      <th></th>\n",
       "      <th>Buy Price</th>\n",
       "      <th>Mon AM</th>\n",
       "      <th>Mon PM</th>\n",
       "      <th>Tue AM</th>\n",
       "      <th>Tue PM</th>\n",
       "      <th>Wed AM</th>\n",
       "      <th>Wed PM</th>\n",
       "      <th>Thu AM</th>\n",
       "      <th>Thu PM</th>\n",
       "      <th>Fri AM</th>\n",
       "      <th>Fri PM</th>\n",
       "      <th>Sat AM</th>\n",
       "      <th>Sat PM</th>\n",
       "      <th>Previous Pattern</th>\n",
       "      <th>Pattern</th>\n",
       "    </tr>\n",
       "  </thead>\n",
       "  <tbody>\n",
       "    <tr>\n",
       "      <th>15</th>\n",
       "      <td>104.0</td>\n",
       "      <td>94.0</td>\n",
       "      <td>89.0</td>\n",
       "      <td>85.0</td>\n",
       "      <td>80.0</td>\n",
       "      <td>113.0</td>\n",
       "      <td>NaN</td>\n",
       "      <td>NaN</td>\n",
       "      <td>NaN</td>\n",
       "      <td>NaN</td>\n",
       "      <td>NaN</td>\n",
       "      <td>NaN</td>\n",
       "      <td>NaN</td>\n",
       "      <td>0</td>\n",
       "      <td>NaN</td>\n",
       "    </tr>\n",
       "    <tr>\n",
       "      <th>53</th>\n",
       "      <td>103.0</td>\n",
       "      <td>90.0</td>\n",
       "      <td>85.0</td>\n",
       "      <td>71.0</td>\n",
       "      <td>76.0</td>\n",
       "      <td>72.0</td>\n",
       "      <td>69.0</td>\n",
       "      <td>66.0</td>\n",
       "      <td>125.0</td>\n",
       "      <td>156.0</td>\n",
       "      <td>NaN</td>\n",
       "      <td>NaN</td>\n",
       "      <td>NaN</td>\n",
       "      <td>0</td>\n",
       "      <td>NaN</td>\n",
       "    </tr>\n",
       "    <tr>\n",
       "      <th>54</th>\n",
       "      <td>110.0</td>\n",
       "      <td>99.0</td>\n",
       "      <td>94.0</td>\n",
       "      <td>91.0</td>\n",
       "      <td>87.0</td>\n",
       "      <td>82.0</td>\n",
       "      <td>79.0</td>\n",
       "      <td>NaN</td>\n",
       "      <td>149.0</td>\n",
       "      <td>166.0</td>\n",
       "      <td>NaN</td>\n",
       "      <td>NaN</td>\n",
       "      <td>NaN</td>\n",
       "      <td>0</td>\n",
       "      <td>NaN</td>\n",
       "    </tr>\n",
       "  </tbody>\n",
       "</table>\n",
       "</div>"
      ],
      "text/plain": [
       "    Buy Price  Mon AM  Mon PM  Tue AM  Tue PM  Wed AM  Wed PM  Thu AM  Thu PM  \\\n",
       "15      104.0    94.0    89.0    85.0    80.0   113.0     NaN     NaN     NaN   \n",
       "53      103.0    90.0    85.0    71.0    76.0    72.0    69.0    66.0   125.0   \n",
       "54      110.0    99.0    94.0    91.0    87.0    82.0    79.0     NaN   149.0   \n",
       "\n",
       "    Fri AM  Fri PM  Sat AM  Sat PM  Previous Pattern  Pattern  \n",
       "15     NaN     NaN     NaN     NaN                 0      NaN  \n",
       "53   156.0     NaN     NaN     NaN                 0      NaN  \n",
       "54   166.0     NaN     NaN     NaN                 0      NaN  "
      ]
     },
     "execution_count": 6,
     "metadata": {},
     "output_type": "execute_result"
    }
   ],
   "source": [
    "nonLabeled = turnip_data[turnip_data['Pattern'].isnull()]\n",
    "nonLabeled.head()"
   ]
  },
  {
   "cell_type": "markdown",
   "metadata": {},
   "source": [
    "As the amount of feature data they contain is quite enough. Those are going to be saved for later testing"
   ]
  },
  {
   "cell_type": "code",
   "execution_count": 7,
   "metadata": {},
   "outputs": [
    {
     "data": {
      "text/plain": [
       "Buy Price            13\n",
       "Mon AM                9\n",
       "Mon PM                5\n",
       "Tue AM               11\n",
       "Tue PM                7\n",
       "Wed AM               13\n",
       "Wed PM               22\n",
       "Thu AM               27\n",
       "Thu PM               42\n",
       "Fri AM               71\n",
       "Fri PM               91\n",
       "Sat AM              113\n",
       "Sat PM              126\n",
       "Previous Pattern      0\n",
       "Pattern               0\n",
       "dtype: int64"
      ]
     },
     "execution_count": 7,
     "metadata": {},
     "output_type": "execute_result"
    }
   ],
   "source": [
    "df = turnip_data[turnip_data['Pattern'].notnull()]\n",
    "df.isnull().sum()"
   ]
  },
  {
   "cell_type": "markdown",
   "metadata": {},
   "source": [
    "Now the data is completely labeled"
   ]
  },
  {
   "cell_type": "code",
   "execution_count": 8,
   "metadata": {},
   "outputs": [],
   "source": [
    "pattern_classes = ['Fluctuating', 'Small Spike', 'Large Spike', 'Decreasing']\n",
    "pattern_label   = 'Pattern'\n",
    "pattern_feature = list(df.columns[df.columns != 'Pattern'])"
   ]
  },
  {
   "cell_type": "code",
   "execution_count": 9,
   "metadata": {
    "scrolled": false
   },
   "outputs": [],
   "source": [
    "# sns.pairplot(df, hue='Pattern')"
   ]
  },
  {
   "cell_type": "markdown",
   "metadata": {},
   "source": [
    "### Preparing the data"
   ]
  },
  {
   "cell_type": "code",
   "execution_count": 28,
   "metadata": {},
   "outputs": [
    {
     "name": "stdout",
     "output_type": "stream",
     "text": [
      "Training Set: 178, Test Set: 77 \n",
      "\n"
     ]
    }
   ],
   "source": [
    "df_X, df_y = df[pattern_feature].values, df[pattern_label].values\n",
    "X_train, X_test, y_train, y_test = train_test_split(df_X, df_y,\n",
    "                                                   test_size=0.3,\n",
    "                                                   random_state=0,\n",
    "                                                   stratify=df_y)\n",
    "print ('Training Set: %d, Test Set: %d \\n' % (X_train.shape[0], X_test.shape[0]))"
   ]
  },
  {
   "cell_type": "code",
   "execution_count": 29,
   "metadata": {},
   "outputs": [],
   "source": [
    "from sklearn.impute import SimpleImputer\n",
    "\n",
    "imp = SimpleImputer(missing_values=np.nan, strategy='mean')\n",
    "\n",
    "imp.fit(X_train)\n",
    "X_train = imp.transform(X_train)\n",
    "X_test = imp.transform(X_test)"
   ]
  },
  {
   "cell_type": "markdown",
   "metadata": {},
   "source": [
    "## Training the model\n",
    "\n",
    "### Support Vector Machine"
   ]
  },
  {
   "cell_type": "code",
   "execution_count": 30,
   "metadata": {},
   "outputs": [
    {
     "name": "stderr",
     "output_type": "stream",
     "text": [
      "C:\\Users\\Miguel\\Anaconda3\\lib\\site-packages\\sklearn\\svm\\base.py:929: ConvergenceWarning: Liblinear failed to converge, increase the number of iterations.\n",
      "  \"the number of iterations.\", ConvergenceWarning)\n"
     ]
    },
    {
     "data": {
      "text/plain": [
       "LinearSVC(C=1.0, class_weight=None, dual=True, fit_intercept=True,\n",
       "          intercept_scaling=1, loss='squared_hinge', max_iter=100000,\n",
       "          multi_class='ovr', penalty='l2', random_state=0, tol=1e-05,\n",
       "          verbose=0)"
      ]
     },
     "execution_count": 30,
     "metadata": {},
     "output_type": "execute_result"
    }
   ],
   "source": [
    "from sklearn.svm import LinearSVC\n",
    "\n",
    "svc_Model = LinearSVC(random_state=0, tol=1e-5, max_iter=100000)\n",
    "svc_Model.fit(X_train, y_train)"
   ]
  },
  {
   "cell_type": "code",
   "execution_count": 31,
   "metadata": {},
   "outputs": [
    {
     "name": "stdout",
     "output_type": "stream",
     "text": [
      "Predicted labels:  [0. 2. 0. 2. 0. 2. 0. 0. 2. 3. 0. 0. 0. 0. 2. 0. 0. 0. 2. 0. 2. 0. 0. 0.\n",
      " 0. 2. 3. 3. 0. 3. 0. 2. 0. 0. 0. 0. 3. 0. 0. 0. 2. 0. 2. 2. 0. 0. 2. 0.\n",
      " 0. 0. 0. 3. 0. 3. 2. 3. 3. 0. 0. 3. 2. 0. 0. 0. 0. 2. 0. 3. 0. 0. 1. 0.\n",
      " 0. 3. 1. 0. 2.]\n",
      "Actual labels:     [0. 2. 1. 2. 0. 2. 0. 0. 2. 3. 0. 0. 3. 2. 2. 0. 0. 1. 2. 1. 1. 1. 1. 2.\n",
      " 0. 2. 3. 3. 0. 0. 1. 1. 0. 1. 1. 2. 1. 1. 0. 1. 2. 1. 2. 2. 0. 0. 2. 2.\n",
      " 0. 1. 0. 3. 0. 3. 2. 0. 3. 1. 1. 3. 2. 0. 0. 0. 1. 2. 0. 3. 1. 2. 1. 0.\n",
      " 2. 3. 1. 0. 2.]\n",
      "Accuracy:  0.6363636363636364\n",
      "              precision    recall  f1-score   support\n",
      "\n",
      "         0.0       0.50      0.92      0.65        25\n",
      "         1.0       1.00      0.10      0.17        21\n",
      "         2.0       0.88      0.71      0.79        21\n",
      "         3.0       0.75      0.90      0.82        10\n",
      "\n",
      "    accuracy                           0.64        77\n",
      "   macro avg       0.78      0.66      0.61        77\n",
      "weighted avg       0.77      0.64      0.58        77\n",
      "\n",
      "Overall Precision: 0.7830882352941176\n",
      "Overall Recall: 0.6573809523809524\n"
     ]
    }
   ],
   "source": [
    "predictions = svc_Model.predict(X_test)\n",
    "print('Predicted labels: ', predictions)\n",
    "print('Actual labels:    ' ,y_test)\n",
    "\n",
    "from sklearn.metrics import precision_score, recall_score\n",
    "from sklearn. metrics import classification_report\n",
    "from sklearn.metrics import accuracy_score\n",
    "\n",
    "print('Accuracy: ', accuracy_score(y_test, predictions))\n",
    "\n",
    "print(classification_report(y_test, predictions))\n",
    "print(\"Overall Precision:\",precision_score(y_test, predictions, average='macro'))\n",
    "print(\"Overall Recall:\",recall_score(y_test, predictions, average='macro'))"
   ]
  },
  {
   "cell_type": "code",
   "execution_count": 32,
   "metadata": {},
   "outputs": [
    {
     "data": {
      "image/png": "[encoded data removed]",
      "text/plain": [
       "<Figure size 432x288 with 2 Axes>"
      ]
     },
     "metadata": {
      "needs_background": "light"
     },
     "output_type": "display_data"
    }
   ],
   "source": [
    "from sklearn.metrics import confusion_matrix\n",
    "\n",
    "# Print the confusion matrix\n",
    "mcm = confusion_matrix(y_test, predictions)\n",
    "plt.imshow(mcm, interpolation=\"nearest\", cmap=plt.cm.Blues)\n",
    "plt.colorbar()\n",
    "tick_marks = np.arange(len(pattern_classes))\n",
    "plt.xticks(tick_marks, pattern_classes, rotation=45)\n",
    "plt.yticks(tick_marks, pattern_classes)\n",
    "plt.xlabel(\"Predicted Pattern\")\n",
    "plt.ylabel(\"Actual Pattern\")\n",
    "plt.show()"
   ]
  },
  {
   "cell_type": "markdown",
   "metadata": {},
   "source": [
    "## Nearest Neighbors"
   ]
  },
  {
   "cell_type": "code",
   "execution_count": 33,
   "metadata": {},
   "outputs": [
    {
     "data": {
      "text/plain": [
       "KNeighborsClassifier(algorithm='auto', leaf_size=30, metric='minkowski',\n",
       "                     metric_params=None, n_jobs=None, n_neighbors=4, p=2,\n",
       "                     weights='uniform')"
      ]
     },
     "execution_count": 33,
     "metadata": {},
     "output_type": "execute_result"
    }
   ],
   "source": [
    "from sklearn.neighbors import KNeighborsClassifier\n",
    "neigh = KNeighborsClassifier(n_neighbors=4)\n",
    "neigh.fit(X_train, y_train)"
   ]
  },
  {
   "cell_type": "code",
   "execution_count": 34,
   "metadata": {},
   "outputs": [
    {
     "name": "stdout",
     "output_type": "stream",
     "text": [
      "Predicted labels:  [0. 2. 0. 2. 0. 2. 0. 0. 2. 3. 0. 0. 0. 0. 2. 0. 0. 0. 2. 0. 2. 0. 0. 0.\n",
      " 0. 2. 3. 3. 0. 3. 0. 2. 0. 0. 0. 0. 3. 0. 0. 0. 2. 0. 2. 2. 0. 0. 2. 0.\n",
      " 0. 0. 0. 3. 0. 3. 2. 3. 3. 0. 0. 3. 2. 0. 0. 0. 0. 2. 0. 3. 0. 0. 1. 0.\n",
      " 0. 3. 1. 0. 2.]\n",
      "Actual labels:     [0. 2. 1. 2. 0. 2. 0. 0. 2. 3. 0. 0. 3. 2. 2. 0. 0. 1. 2. 1. 1. 1. 1. 2.\n",
      " 0. 2. 3. 3. 0. 0. 1. 1. 0. 1. 1. 2. 1. 1. 0. 1. 2. 1. 2. 2. 0. 0. 2. 2.\n",
      " 0. 1. 0. 3. 0. 3. 2. 0. 3. 1. 1. 3. 2. 0. 0. 0. 1. 2. 0. 3. 1. 2. 1. 0.\n",
      " 2. 3. 1. 0. 2.]\n",
      "Accuracy:  0.8571428571428571\n",
      "              precision    recall  f1-score   support\n",
      "\n",
      "         0.0       0.84      0.84      0.84        25\n",
      "         1.0       0.85      0.81      0.83        21\n",
      "         2.0       1.00      0.86      0.92        21\n",
      "         3.0       0.71      1.00      0.83        10\n",
      "\n",
      "    accuracy                           0.86        77\n",
      "   macro avg       0.85      0.88      0.86        77\n",
      "weighted avg       0.87      0.86      0.86        77\n",
      "\n",
      "Overall Precision: 0.8510714285714286\n",
      "Overall Recall: 0.8766666666666667\n"
     ]
    }
   ],
   "source": [
    "neigh_pred = neigh.predict(X_test)\n",
    "print('Predicted labels: ', predictions)\n",
    "print('Actual labels:    ' ,y_test)\n",
    "\n",
    "print('Accuracy: ', accuracy_score(y_test, neigh_pred))\n",
    "\n",
    "print(classification_report(y_test, neigh_pred))\n",
    "print(\"Overall Precision:\",precision_score(y_test, neigh_pred, average='macro'))\n",
    "print(\"Overall Recall:\",recall_score(y_test, neigh_pred, average='macro'))"
   ]
  },
  {
   "cell_type": "code",
   "execution_count": 35,
   "metadata": {},
   "outputs": [
    {
     "data": {
      "image/png": "[encoded data removed]",
      "text/plain": [
       "<Figure size 432x288 with 2 Axes>"
      ]
     },
     "metadata": {
      "needs_background": "light"
     },
     "output_type": "display_data"
    }
   ],
   "source": [
    "# Print the confusion matrix\n",
    "mcm = confusion_matrix(y_test, neigh_pred)\n",
    "plt.imshow(mcm, interpolation=\"nearest\", cmap=plt.cm.Blues)\n",
    "plt.colorbar()\n",
    "tick_marks = np.arange(len(pattern_classes))\n",
    "plt.xticks(tick_marks, pattern_classes, rotation=45)\n",
    "plt.yticks(tick_marks, pattern_classes)\n",
    "plt.xlabel(\"Predicted Pattern\")\n",
    "plt.ylabel(\"Actual Pattern\")\n",
    "plt.show()"
   ]
  },
  {
   "cell_type": "markdown",
   "metadata": {},
   "source": [
    "## Random Forest Classifier"
   ]
  },
  {
   "cell_type": "code",
   "execution_count": 36,
   "metadata": {},
   "outputs": [
    {
     "data": {
      "text/plain": [
       "RandomForestClassifier(bootstrap=True, class_weight=None, criterion='gini',\n",
       "                       max_depth=None, max_features='auto', max_leaf_nodes=None,\n",
       "                       min_impurity_decrease=0.0, min_impurity_split=None,\n",
       "                       min_samples_leaf=1, min_samples_split=2,\n",
       "                       min_weight_fraction_leaf=0.0, n_estimators=100,\n",
       "                       n_jobs=None, oob_score=False, random_state=None,\n",
       "                       verbose=0, warm_start=False)"
      ]
     },
     "execution_count": 36,
     "metadata": {},
     "output_type": "execute_result"
    }
   ],
   "source": [
    "from sklearn.ensemble import RandomForestClassifier\n",
    "\n",
    "forestClass = RandomForestClassifier(n_estimators=100)\n",
    "forestClass.fit(X_train, y_train)"
   ]
  },
  {
   "cell_type": "code",
   "execution_count": 37,
   "metadata": {},
   "outputs": [
    {
     "name": "stdout",
     "output_type": "stream",
     "text": [
      "Predicted labels:  [0. 2. 0. 2. 0. 2. 0. 0. 2. 3. 0. 0. 0. 0. 2. 0. 0. 0. 2. 0. 2. 0. 0. 0.\n",
      " 0. 2. 3. 3. 0. 3. 0. 2. 0. 0. 0. 0. 3. 0. 0. 0. 2. 0. 2. 2. 0. 0. 2. 0.\n",
      " 0. 0. 0. 3. 0. 3. 2. 3. 3. 0. 0. 3. 2. 0. 0. 0. 0. 2. 0. 3. 0. 0. 1. 0.\n",
      " 0. 3. 1. 0. 2.]\n",
      "Actual labels:     [0. 2. 1. 2. 0. 2. 0. 0. 2. 3. 0. 0. 3. 2. 2. 0. 0. 1. 2. 1. 1. 1. 1. 2.\n",
      " 0. 2. 3. 3. 0. 0. 1. 1. 0. 1. 1. 2. 1. 1. 0. 1. 2. 1. 2. 2. 0. 0. 2. 2.\n",
      " 0. 1. 0. 3. 0. 3. 2. 0. 3. 1. 1. 3. 2. 0. 0. 0. 1. 2. 0. 3. 1. 2. 1. 0.\n",
      " 2. 3. 1. 0. 2.]\n",
      "Accuracy:  0.8831168831168831\n",
      "              precision    recall  f1-score   support\n",
      "\n",
      "         0.0       1.00      0.92      0.96        25\n",
      "         1.0       0.88      0.71      0.79        21\n",
      "         2.0       0.77      0.95      0.85        21\n",
      "         3.0       0.91      1.00      0.95        10\n",
      "\n",
      "    accuracy                           0.88        77\n",
      "   macro avg       0.89      0.90      0.89        77\n",
      "weighted avg       0.89      0.88      0.88        77\n",
      "\n",
      "Overall Precision: 0.8901686548745372\n",
      "Overall Recall: 0.8966666666666667\n"
     ]
    }
   ],
   "source": [
    "forest_pred = forestClass.predict(X_test)\n",
    "print('Predicted labels: ', predictions)\n",
    "print('Actual labels:    ' ,y_test)\n",
    "\n",
    "print('Accuracy: ', accuracy_score(y_test, forest_pred))\n",
    "\n",
    "print(classification_report(y_test, forest_pred))\n",
    "print(\"Overall Precision:\",precision_score(y_test, forest_pred, average='macro'))\n",
    "print(\"Overall Recall:\",recall_score(y_test, forest_pred, average='macro'))"
   ]
  },
  {
   "cell_type": "code",
   "execution_count": 38,
   "metadata": {},
   "outputs": [
    {
     "data": {
      "image/png": "[encoded data removed]",
      "text/plain": [
       "<Figure size 432x288 with 2 Axes>"
      ]
     },
     "metadata": {
      "needs_background": "light"
     },
     "output_type": "display_data"
    }
   ],
   "source": [
    "# Print the confusion matrix\n",
    "mcm = confusion_matrix(y_test, forest_pred)\n",
    "plt.imshow(mcm, interpolation=\"nearest\", cmap=plt.cm.Blues)\n",
    "plt.colorbar()\n",
    "tick_marks = np.arange(len(pattern_classes))\n",
    "plt.xticks(tick_marks, pattern_classes, rotation=45)\n",
    "plt.yticks(tick_marks, pattern_classes)\n",
    "plt.xlabel(\"Predicted Pattern\")\n",
    "plt.ylabel(\"Actual Pattern\")\n",
    "plt.show()"
   ]
  },
  {
   "cell_type": "code",
   "execution_count": null,
   "metadata": {},
   "outputs": [],
   "source": []
  },
  {
   "cell_type": "code",
   "execution_count": null,
   "metadata": {},
   "outputs": [],
   "source": []
  }
 ],
 "metadata": {
  "kernelspec": {
   "display_name": "Python 3",
   "language": "python",
   "name": "python3"
  },
  "language_info": {
   "codemirror_mode": {
    "name": "ipython",
    "version": 3
   },
   "file_extension": ".py",
   "mimetype": "text/x-python",
   "name": "python",
   "nbconvert_exporter": "python",
   "pygments_lexer": "ipython3",
   "version": "3.7.3"
  }
 },
 "nbformat": 4,
 "nbformat_minor": 2
}
